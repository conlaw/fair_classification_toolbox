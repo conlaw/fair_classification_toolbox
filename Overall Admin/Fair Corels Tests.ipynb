{
 "cells": [
  {
   "cell_type": "code",
   "execution_count": null,
   "metadata": {},
   "outputs": [],
   "source": [
    "from faircorels import *\n",
    "import pandas as pd\n",
    "import numpy as np\n",
    "import time"
   ]
  },
  {
   "cell_type": "code",
   "execution_count": null,
   "metadata": {},
   "outputs": [],
   "source": [
    "#Helper functions for computing fairness/accuracy\n",
    "def compute_TPR_GAP(preds, Y, group):\n",
    "    res = {}\n",
    "    res['TPR'] = sum(preds[Y])/len(preds[Y])\n",
    "    res['TPR_1'] = sum(preds[Y & group])/len(preds[Y & group])\n",
    "    res['TPR_2'] = sum(preds[Y & ~group])/len(preds[Y & ~group])\n",
    "    res['TPR_GAP'] = abs(res['TPR_1'] - res['TPR_2'])\n",
    "    return res\n",
    "\n",
    "def compute_TNR_GAP(preds, Y, group):\n",
    "    res = {}\n",
    "    res['TNR'] = sum(~preds[~Y])/len(preds[~Y])\n",
    "    res['TNR_1'] = sum(~preds[~Y & group])/len(preds[~Y & group])\n",
    "    res['TNR_2'] = sum(~preds[~Y & ~group])/len(preds[~Y & ~group])\n",
    "    res['TNR_GAP'] = abs(res['TNR_1'] - res['TNR_2'])\n",
    "    return res\n",
    "\n",
    "def compute_ACC_GAP(preds, Y, group):\n",
    "    res = {}\n",
    "    res['ACC'] = sum(preds == Y)/len(Y)\n",
    "    res['ACC_1'] = sum(preds[group] == Y[group])/len(Y[group])\n",
    "    res['ACC_2'] = sum(preds[~group] == Y[~group])/len(Y[~group])\n",
    "    res['ACC_GAP'] = abs(res['ACC_1'] - res['ACC_2'])\n",
    "    return res\n",
    "    \n",
    "def compute_EqOpp(preds, Y, group):\n",
    "    return compute_TPR_GAP(preds, Y, group)\n",
    "\n",
    "def compute_EqOd(preds, Y, group):\n",
    "    return compute_TPR_GAP(preds, Y, group).update(compute_TNR_GAP(preds, Y, group) )\n",
    "\n",
    "def compute_AccDisp(preds, Y, group):\n",
    "    return compute_ACC_GAP(preds, Y, group)\n",
    "\n",
    "def compute_fairness(predss,Y,group):\n",
    "    res = compute_TPR_GAP(preds, Y, group)\n",
    "    res.update(compute_TNR_GAP(preds, Y, group))\n",
    "    res.update(compute_ACC_GAP(preds,Y,group))\n",
    "    return res\n"
   ]
  },
  {
   "cell_type": "code",
   "execution_count": null,
   "metadata": {},
   "outputs": [],
   "source": [
    "epsilon_test = np.concatenate([np.linspace(0,0.5,30),[1]])"
   ]
  },
  {
   "cell_type": "code",
   "execution_count": null,
   "metadata": {},
   "outputs": [],
   "source": [
    "results = []\n",
    "for i in range(1):\n",
    "    print('***** FOLD %d ******'%i)\n",
    "    train  = pd.read_csv('split_data/bin_compas_train_%d.csv'%i)\n",
    "    test = pd.read_csv('split_data/bin_compas_test_%d.csv'%i)\n",
    "\n",
    "    for fairMet in [4]:\n",
    "        for eps in epsilon_test:\n",
    "            print('Epsilon: %f'%eps)\n",
    "            \n",
    "            start_time = time.time()\n",
    "            c = CorelsClassifier(n_iter=1000000, c=0.001, fairness = fairMet, epsilon = eps, \n",
    "                                 maj_vect = train['race_True.1'].to_numpy())\n",
    "            a = c.fit(train.drop('Y',axis=1).to_numpy(), train['Y'].to_numpy())\n",
    "            end_time = time.time() - start_time\n",
    "            \n",
    "            preds = c.predict(test.drop('Y',axis=1).to_numpy()).astype(np.bool)\n",
    "            y = test['Y'].to_numpy()\n",
    "            group = test['race_True.1'].to_numpy()\n",
    "            \n",
    "            res = compute_fairness(preds, y, group)\n",
    "            res['epsilon'] = eps\n",
    "            res['fold'] = i\n",
    "            res['fairnessCriteria'] = fairMet\n",
    "            res['algo'] = 'fairCorels'\n",
    "            res['train_time'] = end_time\n",
    "            results.append(res)"
   ]
  },
  {
   "cell_type": "code",
   "execution_count": null,
   "metadata": {},
   "outputs": [],
   "source": [
    "pd.DataFrame.from_records(results).to_csv('fairCorels_results.csv', index=False)"
   ]
  }
 ],
 "metadata": {
  "kernelspec": {
   "display_name": "Python 3",
   "language": "python",
   "name": "python3"
  },
  "language_info": {
   "codemirror_mode": {
    "name": "ipython",
    "version": 3
   },
   "file_extension": ".py",
   "mimetype": "text/x-python",
   "name": "python",
   "nbconvert_exporter": "python",
   "pygments_lexer": "ipython3",
   "version": "3.7.6"
  }
 },
 "nbformat": 4,
 "nbformat_minor": 4
}
