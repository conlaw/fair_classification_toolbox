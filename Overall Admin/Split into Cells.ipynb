{
 "cells": [
  {
   "cell_type": "code",
   "execution_count": 14,
   "metadata": {},
   "outputs": [],
   "source": [
    "import pandas as pd\n",
    "from itertools import cycle\n",
    "from binerizer import *"
   ]
  },
  {
   "cell_type": "code",
   "execution_count": 15,
   "metadata": {},
   "outputs": [
    {
     "data": {
      "text/plain": [
       "\"\\n    for i in range(num_folds):\\n        train = data[data.fold != i].drop('fold',axis = 1).to_csv(output_path+name+'_train_'+str(i)+'.csv')\\n        test = data[data.fold == i].drop('fold',axis = 1).to_csv(output_path+name+'_test_'+str(i)+'.csv')\\n        \\n\""
      ]
     },
     "execution_count": 15,
     "metadata": {},
     "output_type": "execute_result"
    }
   ],
   "source": [
    "def generate_data_split(file, name, num_folds = 10, output_path = ''):\n",
    "    c = cycle(range(0,num_folds))\n",
    "\n",
    "    data = (pd.read_csv(file).sample(frac=1)\n",
    "            .assign(fold = lambda df: [next(c) for _ in range(len(df))]))\n",
    "    return data\n",
    "'''\n",
    "    for i in range(num_folds):\n",
    "        train = data[data.fold != i].drop('fold',axis = 1).to_csv(output_path+name+'_train_'+str(i)+'.csv')\n",
    "        test = data[data.fold == i].drop('fold',axis = 1).to_csv(output_path+name+'_test_'+str(i)+'.csv')\n",
    "        \n",
    "'''"
   ]
  },
  {
   "cell_type": "code",
   "execution_count": null,
   "metadata": {},
   "outputs": [],
   "source": []
  },
  {
   "cell_type": "code",
   "execution_count": 73,
   "metadata": {},
   "outputs": [],
   "source": [
    "compas = (generate_data_split('data_original/compas.csv', 'compas', output_path = 'split_data/')\n",
    "          .assign(score_factor = lambda df: df.score_factor.astype(np.str),\n",
    "                  Age_Above_FourtyFive = lambda df: df.Age_Above_FourtyFive.astype(np.str),\n",
    "                  Age_Below_TwentyFive = lambda df: df.Age_Below_TwentyFive.astype(np.str),\n",
    "                  gender = lambda df: df.gender.astype(np.str),\n",
    "                  Misdemeanor = lambda df: df.Misdemeanor.astype(np.str),\n",
    "                  race = lambda df: df.race.astype(np.str)\n",
    "                 ))\n",
    "\n",
    "for i in range(10):\n",
    "    train = compas[compas.fold != i].drop('fold',axis = 1).to_csv('split_data/compas'+'_train_'+str(i)+'.csv', index=False)\n",
    "    test = compas[compas.fold == i].drop('fold',axis = 1).to_csv('split_data/compas'+'_test_'+str(i)+'.csv', index=False)\n",
    "        "
   ]
  },
  {
   "cell_type": "code",
   "execution_count": 74,
   "metadata": {},
   "outputs": [
    {
     "name": "stdout",
     "output_type": "stream",
     "text": [
      "Column Number_of_Priors: Binarzing with specified numeric strategy.\n",
      "Column score_factor: Applying 1 Hot Encoding.\n",
      "Column Age_Above_FourtyFive: Applying 1 Hot Encoding.\n",
      "Column Age_Below_TwentyFive: Applying 1 Hot Encoding.\n",
      "Column gender: Applying 1 Hot Encoding.\n",
      "Column Misdemeanor: Applying 1 Hot Encoding.\n",
      "Column race: Applying 1 Hot Encoding.\n",
      "Column Y: Copying to final dataframe.\n"
     ]
    }
   ],
   "source": [
    "c = cycle(range(0,10))\n",
    "bin_compas = (binerizeData(compas.drop('fold',axis=1), verbose = True)\n",
    "              .merge(compas[['fold']], left_index = True, right_index = True))\n",
    "for i in range(10):\n",
    "    train = bin_compas[bin_compas.fold != i].drop('fold',axis = 1).to_csv('split_data/bin_compas'+'_train_'+str(i)+'.csv', index=False)\n",
    "    test = bin_compas[bin_compas.fold == i].drop('fold',axis = 1).to_csv('split_data/bin_compas'+'_test_'+str(i)+'.csv', index=False)\n"
   ]
  },
  {
   "cell_type": "code",
   "execution_count": 75,
   "metadata": {},
   "outputs": [],
   "source": [
    "adult = (generate_data_split('data_original/adult.csv', 'adult', output_path = 'split_data/')\n",
    "         .assign(gender = lambda df: df.gender.astype(np.str))\n",
    "        )\n",
    "\n",
    "for i in range(10):\n",
    "    train = adult[adult.fold != i].drop('fold',axis = 1).to_csv('split_data/adult'+'_train_'+str(i)+'.csv', index=False)\n",
    "    test = adult[adult.fold == i].drop('fold',axis = 1).to_csv('split_data/adult'+'_test_'+str(i)+'.csv', index=False)       "
   ]
  },
  {
   "cell_type": "code",
   "execution_count": 76,
   "metadata": {},
   "outputs": [
    {
     "name": "stdout",
     "output_type": "stream",
     "text": [
      "Column X1: Binarzing with specified numeric strategy.\n",
      "Column X2: Applying 1 Hot Encoding.\n",
      "Column X3: Binarzing with specified numeric strategy.\n",
      "Column X4: Applying 1 Hot Encoding.\n",
      "Column X5: Binarzing with specified numeric strategy.\n",
      "Column X6: Applying 1 Hot Encoding.\n",
      "Column X7: Applying 1 Hot Encoding.\n",
      "Column X8: Applying 1 Hot Encoding.\n",
      "Column X9: Applying 1 Hot Encoding.\n",
      "Column X11: Binarzing with specified numeric strategy.\n",
      "Column X12: Binarzing with specified numeric strategy.\n",
      "Column X13: Binarzing with specified numeric strategy.\n",
      "Column X14: Applying 1 Hot Encoding.\n",
      "Column gender: Applying 1 Hot Encoding.\n",
      "Column Y: Copying to final dataframe.\n"
     ]
    }
   ],
   "source": [
    "c = cycle(range(0,10))\n",
    "bin_compas = (binerizeData(adult.drop('fold',axis=1), verbose = True)\n",
    "              .merge(adult[['fold']], left_index = True, right_index = True))\n",
    "for i in range(10):\n",
    "    train = bin_compas[bin_compas.fold != i].drop('fold',axis = 1).to_csv('split_data/bin_adult'+'_train_'+str(i)+'.csv', index=False)\n",
    "    test = bin_compas[bin_compas.fold == i].drop('fold',axis = 1).to_csv('split_data/bin_adult'+'_test_'+str(i)+'.csv', index=False)"
   ]
  },
  {
   "cell_type": "code",
   "execution_count": 77,
   "metadata": {},
   "outputs": [],
   "source": [
    "default = (generate_data_split('data_original/default.csv', 'default', output_path = 'split_data/')\n",
    "           .assign(X2 = lambda df: df.X2.astype(np.str), \n",
    "                  X3 = lambda df: df.X3.astype(np.str),\n",
    "                  X4 = lambda df: df.X4.astype(np.str))\n",
    "        )\n",
    " \n",
    "for i in range(10):\n",
    "    train = default[default.fold != i].drop('fold',axis = 1).to_csv('split_data/default'+'_train_'+str(i)+'.csv', index=False)\n",
    "    test = default[default.fold == i].drop('fold',axis = 1).to_csv('split_data/default'+'_test_'+str(i)+'.csv', index=False)"
   ]
  },
  {
   "cell_type": "code",
   "execution_count": 78,
   "metadata": {},
   "outputs": [
    {
     "name": "stdout",
     "output_type": "stream",
     "text": [
      "Column X1: Binarzing with specified numeric strategy.\n",
      "Column X2: Applying 1 Hot Encoding.\n",
      "Column X3: Applying 1 Hot Encoding.\n",
      "Column X4: Applying 1 Hot Encoding.\n",
      "Column X5: Binarzing with specified numeric strategy.\n",
      "Column X6: Binarzing with specified numeric strategy.\n",
      "Column X7: Binarzing with specified numeric strategy.\n",
      "Column X8: Binarzing with specified numeric strategy.\n",
      "Column X9: Binarzing with specified numeric strategy.\n",
      "Column X10: Binarzing with specified numeric strategy.\n",
      "Column X11: Binarzing with specified numeric strategy.\n",
      "Column X12: Binarzing with specified numeric strategy.\n",
      "Column X13: Binarzing with specified numeric strategy.\n",
      "Column X14: Binarzing with specified numeric strategy.\n",
      "Column X15: Binarzing with specified numeric strategy.\n",
      "Column X16: Binarzing with specified numeric strategy.\n",
      "Column X17: Binarzing with specified numeric strategy.\n",
      "Column X18: Binarzing with specified numeric strategy.\n",
      "Column X19: Binarzing with specified numeric strategy.\n",
      "Column X20: Binarzing with specified numeric strategy.\n",
      "Column X21: Binarzing with specified numeric strategy.\n",
      "Column X22: Binarzing with specified numeric strategy.\n",
      "Column X23: Binarzing with specified numeric strategy.\n",
      "Column Y: Copying to final dataframe.\n"
     ]
    }
   ],
   "source": [
    "c = cycle(range(0,10))\n",
    "bin_compas = (binerizeData(default.drop('fold',axis=1), verbose = True)\n",
    "              .merge(default[['fold']], left_index = True, right_index = True))\n",
    "for i in range(10):\n",
    "    train = bin_compas[bin_compas.fold != i].drop('fold',axis = 1).to_csv('split_data/bin_default'+'_train_'+str(i)+'.csv', index=False)\n",
    "    test = bin_compas[bin_compas.fold == i].drop('fold',axis = 1).to_csv('split_data/bin_default'+'_test_'+str(i)+'.csv', index=False)"
   ]
  },
  {
   "cell_type": "code",
   "execution_count": 24,
   "metadata": {},
   "outputs": [],
   "source": [
    "generate_data_split('data_original/compas.csv', 'compas', output_path = 'split_data/')\n",
    "generate_data_split('data_original/adult.csv', 'adult', output_path = 'split_data/')\n",
    "generate_data_split('data_original/default.csv', 'default', output_path = 'split_data/')"
   ]
  }
 ],
 "metadata": {
  "kernelspec": {
   "display_name": "Python 3",
   "language": "python",
   "name": "python3"
  },
  "language_info": {
   "codemirror_mode": {
    "name": "ipython",
    "version": 3
   },
   "file_extension": ".py",
   "mimetype": "text/x-python",
   "name": "python",
   "nbconvert_exporter": "python",
   "pygments_lexer": "ipython3",
   "version": "3.7.6"
  }
 },
 "nbformat": 4,
 "nbformat_minor": 4
}
